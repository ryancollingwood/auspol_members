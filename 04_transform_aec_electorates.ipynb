{
 "cells": [
  {
   "cell_type": "code",
   "execution_count": 1,
   "metadata": {},
   "outputs": [],
   "source": [
    "import pandas as pd\n",
    "import numpy as np\n",
    "import glob\n",
    "import re"
   ]
  },
  {
   "cell_type": "code",
   "execution_count": 2,
   "metadata": {},
   "outputs": [],
   "source": [
    "OUTPUT_DIR = \"04_transform_aec_electorates\""
   ]
  },
  {
   "cell_type": "code",
   "execution_count": 3,
   "metadata": {},
   "outputs": [],
   "source": [
    "exported_files = glob.glob(\"03_extract_aec_electorates/*.csv\")"
   ]
  },
  {
   "cell_type": "code",
   "execution_count": 4,
   "metadata": {},
   "outputs": [],
   "source": [
    "df = pd.read_csv(exported_files[0])"
   ]
  },
  {
   "cell_type": "markdown",
   "metadata": {},
   "source": [
    "# Fix Column Headers"
   ]
  },
  {
   "cell_type": "code",
   "execution_count": 5,
   "metadata": {},
   "outputs": [],
   "source": [
    "def fix_column_headers(df):\n",
    "    df.columns = [re.sub(r\"[^\\w]\", \"_\", x.lower()) for x in df.columns]\n",
    "    return df"
   ]
  },
  {
   "cell_type": "code",
   "execution_count": 6,
   "metadata": {},
   "outputs": [
    {
     "data": {
      "text/html": [
       "<div>\n",
       "<style scoped>\n",
       "    .dataframe tbody tr th:only-of-type {\n",
       "        vertical-align: middle;\n",
       "    }\n",
       "\n",
       "    .dataframe tbody tr th {\n",
       "        vertical-align: top;\n",
       "    }\n",
       "\n",
       "    .dataframe thead th {\n",
       "        text-align: right;\n",
       "    }\n",
       "</style>\n",
       "<table border=\"1\" class=\"dataframe\">\n",
       "  <thead>\n",
       "    <tr style=\"text-align: right;\">\n",
       "      <th></th>\n",
       "      <th>state</th>\n",
       "      <th>locality_suburb</th>\n",
       "      <th>postcode</th>\n",
       "      <th>electorate</th>\n",
       "      <th>redistributed_electorate</th>\n",
       "      <th>other_locality_s_</th>\n",
       "    </tr>\n",
       "  </thead>\n",
       "  <tbody>\n",
       "    <tr>\n",
       "      <th>0</th>\n",
       "      <td>SA</td>\n",
       "      <td>ADELAIDE</td>\n",
       "      <td>5000</td>\n",
       "      <td>Adelaide</td>\n",
       "      <td>NaN</td>\n",
       "      <td>NaN</td>\n",
       "    </tr>\n",
       "    <tr>\n",
       "      <th>1</th>\n",
       "      <td>SA</td>\n",
       "      <td>ALLENBY GARDENS</td>\n",
       "      <td>5009</td>\n",
       "      <td>Adelaide</td>\n",
       "      <td>NaN</td>\n",
       "      <td>NaN</td>\n",
       "    </tr>\n",
       "    <tr>\n",
       "      <th>2</th>\n",
       "      <td>SA</td>\n",
       "      <td>ANGLE PARK</td>\n",
       "      <td>5010</td>\n",
       "      <td>Adelaide</td>\n",
       "      <td>NaN</td>\n",
       "      <td>NaN</td>\n",
       "    </tr>\n",
       "    <tr>\n",
       "      <th>3</th>\n",
       "      <td>SA</td>\n",
       "      <td>ASHFORD</td>\n",
       "      <td>5035</td>\n",
       "      <td>Adelaide</td>\n",
       "      <td>NaN</td>\n",
       "      <td>NaN</td>\n",
       "    </tr>\n",
       "    <tr>\n",
       "      <th>4</th>\n",
       "      <td>SA</td>\n",
       "      <td>BLAIR ATHOL</td>\n",
       "      <td>5084</td>\n",
       "      <td>Adelaide</td>\n",
       "      <td>NaN</td>\n",
       "      <td>NaN</td>\n",
       "    </tr>\n",
       "  </tbody>\n",
       "</table>\n",
       "</div>"
      ],
      "text/plain": [
       "  state  locality_suburb  postcode electorate  redistributed_electorate  \\\n",
       "0    SA         ADELAIDE      5000   Adelaide                       NaN   \n",
       "1    SA  ALLENBY GARDENS      5009   Adelaide                       NaN   \n",
       "2    SA       ANGLE PARK      5010   Adelaide                       NaN   \n",
       "3    SA          ASHFORD      5035   Adelaide                       NaN   \n",
       "4    SA      BLAIR ATHOL      5084   Adelaide                       NaN   \n",
       "\n",
       "   other_locality_s_  \n",
       "0                NaN  \n",
       "1                NaN  \n",
       "2                NaN  \n",
       "3                NaN  \n",
       "4                NaN  "
      ]
     },
     "execution_count": 6,
     "metadata": {},
     "output_type": "execute_result"
    }
   ],
   "source": [
    "df = fix_column_headers(df)\n",
    "df.head()"
   ]
  },
  {
   "cell_type": "markdown",
   "metadata": {},
   "source": []
  },
  {
   "cell_type": "code",
   "execution_count": 7,
   "metadata": {},
   "outputs": [
    {
     "data": {
      "text/html": [
       "<div>\n",
       "<style scoped>\n",
       "    .dataframe tbody tr th:only-of-type {\n",
       "        vertical-align: middle;\n",
       "    }\n",
       "\n",
       "    .dataframe tbody tr th {\n",
       "        vertical-align: top;\n",
       "    }\n",
       "\n",
       "    .dataframe thead th {\n",
       "        text-align: right;\n",
       "    }\n",
       "</style>\n",
       "<table border=\"1\" class=\"dataframe\">\n",
       "  <thead>\n",
       "    <tr style=\"text-align: right;\">\n",
       "      <th></th>\n",
       "      <th>state</th>\n",
       "      <th>locality_suburb</th>\n",
       "      <th>postcode</th>\n",
       "      <th>electorate</th>\n",
       "      <th>redistributed_electorate</th>\n",
       "      <th>other_locality_s_</th>\n",
       "    </tr>\n",
       "  </thead>\n",
       "  <tbody>\n",
       "    <tr>\n",
       "      <th>count</th>\n",
       "      <td>81</td>\n",
       "      <td>81</td>\n",
       "      <td>81.000000</td>\n",
       "      <td>81</td>\n",
       "      <td>4.0</td>\n",
       "      <td>4.0</td>\n",
       "    </tr>\n",
       "    <tr>\n",
       "      <th>unique</th>\n",
       "      <td>3</td>\n",
       "      <td>75</td>\n",
       "      <td>NaN</td>\n",
       "      <td>3</td>\n",
       "      <td>NaN</td>\n",
       "      <td>NaN</td>\n",
       "    </tr>\n",
       "    <tr>\n",
       "      <th>top</th>\n",
       "      <td>SA</td>\n",
       "      <td>1234</td>\n",
       "      <td>NaN</td>\n",
       "      <td>Adelaide</td>\n",
       "      <td>NaN</td>\n",
       "      <td>NaN</td>\n",
       "    </tr>\n",
       "    <tr>\n",
       "      <th>freq</th>\n",
       "      <td>73</td>\n",
       "      <td>4</td>\n",
       "      <td>NaN</td>\n",
       "      <td>73</td>\n",
       "      <td>NaN</td>\n",
       "      <td>NaN</td>\n",
       "    </tr>\n",
       "    <tr>\n",
       "      <th>mean</th>\n",
       "      <td>NaN</td>\n",
       "      <td>NaN</td>\n",
       "      <td>4607.790123</td>\n",
       "      <td>NaN</td>\n",
       "      <td>1234.0</td>\n",
       "      <td>1234.0</td>\n",
       "    </tr>\n",
       "    <tr>\n",
       "      <th>std</th>\n",
       "      <td>NaN</td>\n",
       "      <td>NaN</td>\n",
       "      <td>1343.346127</td>\n",
       "      <td>NaN</td>\n",
       "      <td>0.0</td>\n",
       "      <td>0.0</td>\n",
       "    </tr>\n",
       "    <tr>\n",
       "      <th>min</th>\n",
       "      <td>NaN</td>\n",
       "      <td>NaN</td>\n",
       "      <td>3.000000</td>\n",
       "      <td>NaN</td>\n",
       "      <td>1234.0</td>\n",
       "      <td>1234.0</td>\n",
       "    </tr>\n",
       "    <tr>\n",
       "      <th>25%</th>\n",
       "      <td>NaN</td>\n",
       "      <td>NaN</td>\n",
       "      <td>5008.000000</td>\n",
       "      <td>NaN</td>\n",
       "      <td>1234.0</td>\n",
       "      <td>1234.0</td>\n",
       "    </tr>\n",
       "    <tr>\n",
       "      <th>50%</th>\n",
       "      <td>NaN</td>\n",
       "      <td>NaN</td>\n",
       "      <td>5034.000000</td>\n",
       "      <td>NaN</td>\n",
       "      <td>1234.0</td>\n",
       "      <td>1234.0</td>\n",
       "    </tr>\n",
       "    <tr>\n",
       "      <th>75%</th>\n",
       "      <td>NaN</td>\n",
       "      <td>NaN</td>\n",
       "      <td>5081.000000</td>\n",
       "      <td>NaN</td>\n",
       "      <td>1234.0</td>\n",
       "      <td>1234.0</td>\n",
       "    </tr>\n",
       "    <tr>\n",
       "      <th>max</th>\n",
       "      <td>NaN</td>\n",
       "      <td>NaN</td>\n",
       "      <td>5086.000000</td>\n",
       "      <td>NaN</td>\n",
       "      <td>1234.0</td>\n",
       "      <td>1234.0</td>\n",
       "    </tr>\n",
       "  </tbody>\n",
       "</table>\n",
       "</div>"
      ],
      "text/plain": [
       "       state locality_suburb     postcode electorate  \\\n",
       "count     81              81    81.000000         81   \n",
       "unique     3              75          NaN          3   \n",
       "top       SA            1234          NaN   Adelaide   \n",
       "freq      73               4          NaN         73   \n",
       "mean     NaN             NaN  4607.790123        NaN   \n",
       "std      NaN             NaN  1343.346127        NaN   \n",
       "min      NaN             NaN     3.000000        NaN   \n",
       "25%      NaN             NaN  5008.000000        NaN   \n",
       "50%      NaN             NaN  5034.000000        NaN   \n",
       "75%      NaN             NaN  5081.000000        NaN   \n",
       "max      NaN             NaN  5086.000000        NaN   \n",
       "\n",
       "        redistributed_electorate  other_locality_s_  \n",
       "count                        4.0                4.0  \n",
       "unique                       NaN                NaN  \n",
       "top                          NaN                NaN  \n",
       "freq                         NaN                NaN  \n",
       "mean                      1234.0             1234.0  \n",
       "std                          0.0                0.0  \n",
       "min                       1234.0             1234.0  \n",
       "25%                       1234.0             1234.0  \n",
       "50%                       1234.0             1234.0  \n",
       "75%                       1234.0             1234.0  \n",
       "max                       1234.0             1234.0  "
      ]
     },
     "execution_count": 7,
     "metadata": {},
     "output_type": "execute_result"
    }
   ],
   "source": [
    "df.describe(include=\"all\")"
   ]
  },
  {
   "cell_type": "code",
   "execution_count": 8,
   "metadata": {},
   "outputs": [
    {
     "data": {
      "text/html": [
       "<div>\n",
       "<style scoped>\n",
       "    .dataframe tbody tr th:only-of-type {\n",
       "        vertical-align: middle;\n",
       "    }\n",
       "\n",
       "    .dataframe tbody tr th {\n",
       "        vertical-align: top;\n",
       "    }\n",
       "\n",
       "    .dataframe thead th {\n",
       "        text-align: right;\n",
       "    }\n",
       "</style>\n",
       "<table border=\"1\" class=\"dataframe\">\n",
       "  <thead>\n",
       "    <tr style=\"text-align: right;\">\n",
       "      <th></th>\n",
       "      <th>state</th>\n",
       "      <th>locality_suburb</th>\n",
       "      <th>postcode</th>\n",
       "      <th>electorate</th>\n",
       "      <th>redistributed_electorate</th>\n",
       "      <th>other_locality_s_</th>\n",
       "    </tr>\n",
       "  </thead>\n",
       "  <tbody>\n",
       "    <tr>\n",
       "      <th>20</th>\n",
       "      <td>1234</td>\n",
       "      <td>1234</td>\n",
       "      <td>1234</td>\n",
       "      <td>1234</td>\n",
       "      <td>1234.0</td>\n",
       "      <td>1234.0</td>\n",
       "    </tr>\n",
       "    <tr>\n",
       "      <th>21</th>\n",
       "      <td>1</td>\n",
       "      <td>2</td>\n",
       "      <td>3</td>\n",
       "      <td>4</td>\n",
       "      <td>NaN</td>\n",
       "      <td>NaN</td>\n",
       "    </tr>\n",
       "    <tr>\n",
       "      <th>42</th>\n",
       "      <td>1234</td>\n",
       "      <td>1234</td>\n",
       "      <td>1234</td>\n",
       "      <td>1234</td>\n",
       "      <td>1234.0</td>\n",
       "      <td>1234.0</td>\n",
       "    </tr>\n",
       "    <tr>\n",
       "      <th>43</th>\n",
       "      <td>1</td>\n",
       "      <td>2</td>\n",
       "      <td>3</td>\n",
       "      <td>4</td>\n",
       "      <td>NaN</td>\n",
       "      <td>NaN</td>\n",
       "    </tr>\n",
       "    <tr>\n",
       "      <th>64</th>\n",
       "      <td>1234</td>\n",
       "      <td>1234</td>\n",
       "      <td>1234</td>\n",
       "      <td>1234</td>\n",
       "      <td>1234.0</td>\n",
       "      <td>1234.0</td>\n",
       "    </tr>\n",
       "    <tr>\n",
       "      <th>65</th>\n",
       "      <td>1</td>\n",
       "      <td>2</td>\n",
       "      <td>3</td>\n",
       "      <td>4</td>\n",
       "      <td>NaN</td>\n",
       "      <td>NaN</td>\n",
       "    </tr>\n",
       "    <tr>\n",
       "      <th>79</th>\n",
       "      <td>1234</td>\n",
       "      <td>1234</td>\n",
       "      <td>1234</td>\n",
       "      <td>1234</td>\n",
       "      <td>1234.0</td>\n",
       "      <td>1234.0</td>\n",
       "    </tr>\n",
       "    <tr>\n",
       "      <th>80</th>\n",
       "      <td>1</td>\n",
       "      <td>2</td>\n",
       "      <td>3</td>\n",
       "      <td>4</td>\n",
       "      <td>NaN</td>\n",
       "      <td>NaN</td>\n",
       "    </tr>\n",
       "  </tbody>\n",
       "</table>\n",
       "</div>"
      ],
      "text/plain": [
       "   state locality_suburb  postcode electorate  redistributed_electorate  \\\n",
       "20  1234            1234      1234       1234                    1234.0   \n",
       "21     1               2         3          4                       NaN   \n",
       "42  1234            1234      1234       1234                    1234.0   \n",
       "43     1               2         3          4                       NaN   \n",
       "64  1234            1234      1234       1234                    1234.0   \n",
       "65     1               2         3          4                       NaN   \n",
       "79  1234            1234      1234       1234                    1234.0   \n",
       "80     1               2         3          4                       NaN   \n",
       "\n",
       "    other_locality_s_  \n",
       "20             1234.0  \n",
       "21                NaN  \n",
       "42             1234.0  \n",
       "43                NaN  \n",
       "64             1234.0  \n",
       "65                NaN  \n",
       "79             1234.0  \n",
       "80                NaN  "
      ]
     },
     "execution_count": 8,
     "metadata": {},
     "output_type": "execute_result"
    }
   ],
   "source": [
    "df.loc[df[\"state\"] != \"SA\"]"
   ]
  },
  {
   "cell_type": "code",
   "execution_count": null,
   "metadata": {},
   "outputs": [],
   "source": []
  },
  {
   "cell_type": "code",
   "execution_count": 9,
   "metadata": {},
   "outputs": [],
   "source": [
    "def drop_numeric_rows_in_column(df, column):\n",
    "    return df.loc[~df[column].apply(lambda x: re.sub(r\"[^a-z\\s]\", \"\", x.lower()).strip()).replace(\"\", np.nan).isnull()]"
   ]
  },
  {
   "cell_type": "code",
   "execution_count": 10,
   "metadata": {},
   "outputs": [],
   "source": [
    "df = drop_numeric_rows_in_column(df, \"state\")"
   ]
  },
  {
   "cell_type": "code",
   "execution_count": 11,
   "metadata": {},
   "outputs": [
    {
     "data": {
      "text/plain": [
       "SA    73\n",
       "Name: state, dtype: int64"
      ]
     },
     "execution_count": 11,
     "metadata": {},
     "output_type": "execute_result"
    }
   ],
   "source": [
    "df[\"state\"].value_counts()"
   ]
  },
  {
   "cell_type": "code",
   "execution_count": 12,
   "metadata": {},
   "outputs": [
    {
     "data": {
      "text/html": [
       "<div>\n",
       "<style scoped>\n",
       "    .dataframe tbody tr th:only-of-type {\n",
       "        vertical-align: middle;\n",
       "    }\n",
       "\n",
       "    .dataframe tbody tr th {\n",
       "        vertical-align: top;\n",
       "    }\n",
       "\n",
       "    .dataframe thead th {\n",
       "        text-align: right;\n",
       "    }\n",
       "</style>\n",
       "<table border=\"1\" class=\"dataframe\">\n",
       "  <thead>\n",
       "    <tr style=\"text-align: right;\">\n",
       "      <th></th>\n",
       "      <th>state</th>\n",
       "      <th>locality_suburb</th>\n",
       "      <th>postcode</th>\n",
       "      <th>electorate</th>\n",
       "      <th>redistributed_electorate</th>\n",
       "      <th>other_locality_s_</th>\n",
       "    </tr>\n",
       "  </thead>\n",
       "  <tbody>\n",
       "    <tr>\n",
       "      <th>count</th>\n",
       "      <td>73</td>\n",
       "      <td>73</td>\n",
       "      <td>73.000000</td>\n",
       "      <td>73</td>\n",
       "      <td>0.0</td>\n",
       "      <td>0.0</td>\n",
       "    </tr>\n",
       "    <tr>\n",
       "      <th>unique</th>\n",
       "      <td>1</td>\n",
       "      <td>73</td>\n",
       "      <td>NaN</td>\n",
       "      <td>1</td>\n",
       "      <td>NaN</td>\n",
       "      <td>NaN</td>\n",
       "    </tr>\n",
       "    <tr>\n",
       "      <th>top</th>\n",
       "      <td>SA</td>\n",
       "      <td>MILE END SOUTH</td>\n",
       "      <td>NaN</td>\n",
       "      <td>Adelaide</td>\n",
       "      <td>NaN</td>\n",
       "      <td>NaN</td>\n",
       "    </tr>\n",
       "    <tr>\n",
       "      <th>freq</th>\n",
       "      <td>73</td>\n",
       "      <td>1</td>\n",
       "      <td>NaN</td>\n",
       "      <td>73</td>\n",
       "      <td>NaN</td>\n",
       "      <td>NaN</td>\n",
       "    </tr>\n",
       "    <tr>\n",
       "      <th>mean</th>\n",
       "      <td>NaN</td>\n",
       "      <td>NaN</td>\n",
       "      <td>5044.972603</td>\n",
       "      <td>NaN</td>\n",
       "      <td>NaN</td>\n",
       "      <td>NaN</td>\n",
       "    </tr>\n",
       "    <tr>\n",
       "      <th>std</th>\n",
       "      <td>NaN</td>\n",
       "      <td>NaN</td>\n",
       "      <td>30.667560</td>\n",
       "      <td>NaN</td>\n",
       "      <td>NaN</td>\n",
       "      <td>NaN</td>\n",
       "    </tr>\n",
       "    <tr>\n",
       "      <th>min</th>\n",
       "      <td>NaN</td>\n",
       "      <td>NaN</td>\n",
       "      <td>5000.000000</td>\n",
       "      <td>NaN</td>\n",
       "      <td>NaN</td>\n",
       "      <td>NaN</td>\n",
       "    </tr>\n",
       "    <tr>\n",
       "      <th>25%</th>\n",
       "      <td>NaN</td>\n",
       "      <td>NaN</td>\n",
       "      <td>5010.000000</td>\n",
       "      <td>NaN</td>\n",
       "      <td>NaN</td>\n",
       "      <td>NaN</td>\n",
       "    </tr>\n",
       "    <tr>\n",
       "      <th>50%</th>\n",
       "      <td>NaN</td>\n",
       "      <td>NaN</td>\n",
       "      <td>5035.000000</td>\n",
       "      <td>NaN</td>\n",
       "      <td>NaN</td>\n",
       "      <td>NaN</td>\n",
       "    </tr>\n",
       "    <tr>\n",
       "      <th>75%</th>\n",
       "      <td>NaN</td>\n",
       "      <td>NaN</td>\n",
       "      <td>5081.000000</td>\n",
       "      <td>NaN</td>\n",
       "      <td>NaN</td>\n",
       "      <td>NaN</td>\n",
       "    </tr>\n",
       "    <tr>\n",
       "      <th>max</th>\n",
       "      <td>NaN</td>\n",
       "      <td>NaN</td>\n",
       "      <td>5086.000000</td>\n",
       "      <td>NaN</td>\n",
       "      <td>NaN</td>\n",
       "      <td>NaN</td>\n",
       "    </tr>\n",
       "  </tbody>\n",
       "</table>\n",
       "</div>"
      ],
      "text/plain": [
       "       state locality_suburb     postcode electorate  \\\n",
       "count     73              73    73.000000         73   \n",
       "unique     1              73          NaN          1   \n",
       "top       SA  MILE END SOUTH          NaN   Adelaide   \n",
       "freq      73               1          NaN         73   \n",
       "mean     NaN             NaN  5044.972603        NaN   \n",
       "std      NaN             NaN    30.667560        NaN   \n",
       "min      NaN             NaN  5000.000000        NaN   \n",
       "25%      NaN             NaN  5010.000000        NaN   \n",
       "50%      NaN             NaN  5035.000000        NaN   \n",
       "75%      NaN             NaN  5081.000000        NaN   \n",
       "max      NaN             NaN  5086.000000        NaN   \n",
       "\n",
       "        redistributed_electorate  other_locality_s_  \n",
       "count                        0.0                0.0  \n",
       "unique                       NaN                NaN  \n",
       "top                          NaN                NaN  \n",
       "freq                         NaN                NaN  \n",
       "mean                         NaN                NaN  \n",
       "std                          NaN                NaN  \n",
       "min                          NaN                NaN  \n",
       "25%                          NaN                NaN  \n",
       "50%                          NaN                NaN  \n",
       "75%                          NaN                NaN  \n",
       "max                          NaN                NaN  "
      ]
     },
     "execution_count": 12,
     "metadata": {},
     "output_type": "execute_result"
    }
   ],
   "source": [
    "df.describe(include=\"all\")"
   ]
  },
  {
   "cell_type": "code",
   "execution_count": 13,
   "metadata": {},
   "outputs": [],
   "source": [
    "def drop_redundent_cols(df):\n",
    "    return df.drop([\"redistributed_electorate\", \"other_locality_s_\"], axis = 1)"
   ]
  },
  {
   "cell_type": "code",
   "execution_count": 14,
   "metadata": {},
   "outputs": [],
   "source": [
    "df = drop_redundent_cols(df)"
   ]
  },
  {
   "cell_type": "code",
   "execution_count": 15,
   "metadata": {},
   "outputs": [
    {
     "data": {
      "text/html": [
       "<div>\n",
       "<style scoped>\n",
       "    .dataframe tbody tr th:only-of-type {\n",
       "        vertical-align: middle;\n",
       "    }\n",
       "\n",
       "    .dataframe tbody tr th {\n",
       "        vertical-align: top;\n",
       "    }\n",
       "\n",
       "    .dataframe thead th {\n",
       "        text-align: right;\n",
       "    }\n",
       "</style>\n",
       "<table border=\"1\" class=\"dataframe\">\n",
       "  <thead>\n",
       "    <tr style=\"text-align: right;\">\n",
       "      <th></th>\n",
       "      <th>state</th>\n",
       "      <th>locality_suburb</th>\n",
       "      <th>postcode</th>\n",
       "      <th>electorate</th>\n",
       "    </tr>\n",
       "  </thead>\n",
       "  <tbody>\n",
       "    <tr>\n",
       "      <th>0</th>\n",
       "      <td>SA</td>\n",
       "      <td>ADELAIDE</td>\n",
       "      <td>5000</td>\n",
       "      <td>Adelaide</td>\n",
       "    </tr>\n",
       "    <tr>\n",
       "      <th>1</th>\n",
       "      <td>SA</td>\n",
       "      <td>ALLENBY GARDENS</td>\n",
       "      <td>5009</td>\n",
       "      <td>Adelaide</td>\n",
       "    </tr>\n",
       "    <tr>\n",
       "      <th>2</th>\n",
       "      <td>SA</td>\n",
       "      <td>ANGLE PARK</td>\n",
       "      <td>5010</td>\n",
       "      <td>Adelaide</td>\n",
       "    </tr>\n",
       "    <tr>\n",
       "      <th>3</th>\n",
       "      <td>SA</td>\n",
       "      <td>ASHFORD</td>\n",
       "      <td>5035</td>\n",
       "      <td>Adelaide</td>\n",
       "    </tr>\n",
       "    <tr>\n",
       "      <th>4</th>\n",
       "      <td>SA</td>\n",
       "      <td>BLAIR ATHOL</td>\n",
       "      <td>5084</td>\n",
       "      <td>Adelaide</td>\n",
       "    </tr>\n",
       "  </tbody>\n",
       "</table>\n",
       "</div>"
      ],
      "text/plain": [
       "  state  locality_suburb  postcode electorate\n",
       "0    SA         ADELAIDE      5000   Adelaide\n",
       "1    SA  ALLENBY GARDENS      5009   Adelaide\n",
       "2    SA       ANGLE PARK      5010   Adelaide\n",
       "3    SA          ASHFORD      5035   Adelaide\n",
       "4    SA      BLAIR ATHOL      5084   Adelaide"
      ]
     },
     "execution_count": 15,
     "metadata": {},
     "output_type": "execute_result"
    }
   ],
   "source": [
    "df.head()"
   ]
  },
  {
   "cell_type": "code",
   "execution_count": 16,
   "metadata": {},
   "outputs": [
    {
     "data": {
      "text/plain": [
       "state              object\n",
       "locality_suburb    object\n",
       "postcode            int64\n",
       "electorate         object\n",
       "dtype: object"
      ]
     },
     "execution_count": 16,
     "metadata": {},
     "output_type": "execute_result"
    }
   ],
   "source": [
    "df.dtypes"
   ]
  },
  {
   "cell_type": "code",
   "execution_count": 17,
   "metadata": {},
   "outputs": [],
   "source": [
    "def title_case_locality_suburb(df):\n",
    "    df[\"locality_suburb\"] = df[\"locality_suburb\"].astype(str).str.title()\n",
    "    return df"
   ]
  },
  {
   "cell_type": "code",
   "execution_count": 18,
   "metadata": {},
   "outputs": [
    {
     "data": {
      "text/html": [
       "<div>\n",
       "<style scoped>\n",
       "    .dataframe tbody tr th:only-of-type {\n",
       "        vertical-align: middle;\n",
       "    }\n",
       "\n",
       "    .dataframe tbody tr th {\n",
       "        vertical-align: top;\n",
       "    }\n",
       "\n",
       "    .dataframe thead th {\n",
       "        text-align: right;\n",
       "    }\n",
       "</style>\n",
       "<table border=\"1\" class=\"dataframe\">\n",
       "  <thead>\n",
       "    <tr style=\"text-align: right;\">\n",
       "      <th></th>\n",
       "      <th>state</th>\n",
       "      <th>locality_suburb</th>\n",
       "      <th>postcode</th>\n",
       "      <th>electorate</th>\n",
       "    </tr>\n",
       "  </thead>\n",
       "  <tbody>\n",
       "    <tr>\n",
       "      <th>0</th>\n",
       "      <td>SA</td>\n",
       "      <td>Adelaide</td>\n",
       "      <td>5000</td>\n",
       "      <td>Adelaide</td>\n",
       "    </tr>\n",
       "    <tr>\n",
       "      <th>1</th>\n",
       "      <td>SA</td>\n",
       "      <td>Allenby Gardens</td>\n",
       "      <td>5009</td>\n",
       "      <td>Adelaide</td>\n",
       "    </tr>\n",
       "    <tr>\n",
       "      <th>2</th>\n",
       "      <td>SA</td>\n",
       "      <td>Angle Park</td>\n",
       "      <td>5010</td>\n",
       "      <td>Adelaide</td>\n",
       "    </tr>\n",
       "    <tr>\n",
       "      <th>3</th>\n",
       "      <td>SA</td>\n",
       "      <td>Ashford</td>\n",
       "      <td>5035</td>\n",
       "      <td>Adelaide</td>\n",
       "    </tr>\n",
       "    <tr>\n",
       "      <th>4</th>\n",
       "      <td>SA</td>\n",
       "      <td>Blair Athol</td>\n",
       "      <td>5084</td>\n",
       "      <td>Adelaide</td>\n",
       "    </tr>\n",
       "  </tbody>\n",
       "</table>\n",
       "</div>"
      ],
      "text/plain": [
       "  state  locality_suburb  postcode electorate\n",
       "0    SA         Adelaide      5000   Adelaide\n",
       "1    SA  Allenby Gardens      5009   Adelaide\n",
       "2    SA       Angle Park      5010   Adelaide\n",
       "3    SA          Ashford      5035   Adelaide\n",
       "4    SA      Blair Athol      5084   Adelaide"
      ]
     },
     "execution_count": 18,
     "metadata": {},
     "output_type": "execute_result"
    }
   ],
   "source": [
    "df = title_case_locality_suburb(df)\n",
    "df.head()"
   ]
  },
  {
   "cell_type": "code",
   "execution_count": 19,
   "metadata": {},
   "outputs": [],
   "source": [
    "def transform_electorate_df(file_path):\n",
    "    df = pd.read_csv(file_path)\n",
    "    df = fix_column_headers(df)\n",
    "    df = drop_numeric_rows_in_column(df, \"state\")\n",
    "    df = drop_numeric_rows_in_column(df, \"locality_suburb\")\n",
    "    df = drop_numeric_rows_in_column(df, \"electorate\")\n",
    "    df = drop_redundent_cols(df)\n",
    "    df = title_case_locality_suburb(df)\n",
    "    \n",
    "    df = df[[\"electorate\", \"locality_suburb\", \"postcode\", \"state\"]]\n",
    "    \n",
    "    return df"
   ]
  },
  {
   "cell_type": "code",
   "execution_count": 20,
   "metadata": {},
   "outputs": [],
   "source": [
    "transformed_dfs = list()\n",
    "\n",
    "for exported_file in exported_files:\n",
    "    transformed_dfs.append(transform_electorate_df(exported_file))\n",
    "\n"
   ]
  },
  {
   "cell_type": "code",
   "execution_count": 21,
   "metadata": {},
   "outputs": [],
   "source": [
    "electorates_df = pd.concat(transformed_dfs)"
   ]
  },
  {
   "cell_type": "code",
   "execution_count": 22,
   "metadata": {},
   "outputs": [
    {
     "data": {
      "text/plain": [
       "(17715, 4)"
      ]
     },
     "execution_count": 22,
     "metadata": {},
     "output_type": "execute_result"
    }
   ],
   "source": [
    "electorates_df.shape"
   ]
  },
  {
   "cell_type": "code",
   "execution_count": 23,
   "metadata": {},
   "outputs": [
    {
     "data": {
      "text/html": [
       "<div>\n",
       "<style scoped>\n",
       "    .dataframe tbody tr th:only-of-type {\n",
       "        vertical-align: middle;\n",
       "    }\n",
       "\n",
       "    .dataframe tbody tr th {\n",
       "        vertical-align: top;\n",
       "    }\n",
       "\n",
       "    .dataframe thead th {\n",
       "        text-align: right;\n",
       "    }\n",
       "</style>\n",
       "<table border=\"1\" class=\"dataframe\">\n",
       "  <thead>\n",
       "    <tr style=\"text-align: right;\">\n",
       "      <th></th>\n",
       "      <th>electorate</th>\n",
       "      <th>locality_suburb</th>\n",
       "      <th>postcode</th>\n",
       "      <th>state</th>\n",
       "    </tr>\n",
       "  </thead>\n",
       "  <tbody>\n",
       "    <tr>\n",
       "      <th>count</th>\n",
       "      <td>17715</td>\n",
       "      <td>17715</td>\n",
       "      <td>17715</td>\n",
       "      <td>17715</td>\n",
       "    </tr>\n",
       "    <tr>\n",
       "      <th>unique</th>\n",
       "      <td>151</td>\n",
       "      <td>15631</td>\n",
       "      <td>2753</td>\n",
       "      <td>8</td>\n",
       "    </tr>\n",
       "    <tr>\n",
       "      <th>top</th>\n",
       "      <td>Lingiari</td>\n",
       "      <td>Red Hill</td>\n",
       "      <td>0872</td>\n",
       "      <td>NSW</td>\n",
       "    </tr>\n",
       "    <tr>\n",
       "      <th>freq</th>\n",
       "      <td>1526</td>\n",
       "      <td>10</td>\n",
       "      <td>474</td>\n",
       "      <td>5024</td>\n",
       "    </tr>\n",
       "  </tbody>\n",
       "</table>\n",
       "</div>"
      ],
      "text/plain": [
       "       electorate locality_suburb postcode  state\n",
       "count       17715           17715    17715  17715\n",
       "unique        151           15631     2753      8\n",
       "top      Lingiari        Red Hill     0872    NSW\n",
       "freq         1526              10      474   5024"
      ]
     },
     "execution_count": 23,
     "metadata": {},
     "output_type": "execute_result"
    }
   ],
   "source": [
    "electorates_df.describe(include=\"all\")"
   ]
  },
  {
   "cell_type": "markdown",
   "metadata": {},
   "source": [
    "check out the postcodes"
   ]
  },
  {
   "cell_type": "code",
   "execution_count": 24,
   "metadata": {},
   "outputs": [],
   "source": [
    "try:\n",
    "    pd.to_numeric(electorates_df[\"postcode\"], errors = \"raise\")\n",
    "except ValueError:\n",
    "    raise(\"Postcodes not expected values\")"
   ]
  },
  {
   "cell_type": "code",
   "execution_count": 25,
   "metadata": {},
   "outputs": [],
   "source": [
    "electorates_df[\"postcode\"] = electorates_df[\"postcode\"].astype(str).str.split(\".\").str[0]"
   ]
  },
  {
   "cell_type": "code",
   "execution_count": 26,
   "metadata": {},
   "outputs": [
    {
     "data": {
      "text/html": [
       "<div>\n",
       "<style scoped>\n",
       "    .dataframe tbody tr th:only-of-type {\n",
       "        vertical-align: middle;\n",
       "    }\n",
       "\n",
       "    .dataframe tbody tr th {\n",
       "        vertical-align: top;\n",
       "    }\n",
       "\n",
       "    .dataframe thead th {\n",
       "        text-align: right;\n",
       "    }\n",
       "</style>\n",
       "<table border=\"1\" class=\"dataframe\">\n",
       "  <thead>\n",
       "    <tr style=\"text-align: right;\">\n",
       "      <th></th>\n",
       "      <th>electorate</th>\n",
       "      <th>locality_suburb</th>\n",
       "      <th>postcode</th>\n",
       "      <th>state</th>\n",
       "    </tr>\n",
       "  </thead>\n",
       "  <tbody>\n",
       "    <tr>\n",
       "      <th>0</th>\n",
       "      <td>Adelaide</td>\n",
       "      <td>Adelaide</td>\n",
       "      <td>5000</td>\n",
       "      <td>SA</td>\n",
       "    </tr>\n",
       "    <tr>\n",
       "      <th>1</th>\n",
       "      <td>Adelaide</td>\n",
       "      <td>Allenby Gardens</td>\n",
       "      <td>5009</td>\n",
       "      <td>SA</td>\n",
       "    </tr>\n",
       "    <tr>\n",
       "      <th>2</th>\n",
       "      <td>Adelaide</td>\n",
       "      <td>Angle Park</td>\n",
       "      <td>5010</td>\n",
       "      <td>SA</td>\n",
       "    </tr>\n",
       "    <tr>\n",
       "      <th>3</th>\n",
       "      <td>Adelaide</td>\n",
       "      <td>Ashford</td>\n",
       "      <td>5035</td>\n",
       "      <td>SA</td>\n",
       "    </tr>\n",
       "    <tr>\n",
       "      <th>4</th>\n",
       "      <td>Adelaide</td>\n",
       "      <td>Blair Athol</td>\n",
       "      <td>5084</td>\n",
       "      <td>SA</td>\n",
       "    </tr>\n",
       "  </tbody>\n",
       "</table>\n",
       "</div>"
      ],
      "text/plain": [
       "  electorate  locality_suburb postcode state\n",
       "0   Adelaide         Adelaide     5000    SA\n",
       "1   Adelaide  Allenby Gardens     5009    SA\n",
       "2   Adelaide       Angle Park     5010    SA\n",
       "3   Adelaide          Ashford     5035    SA\n",
       "4   Adelaide      Blair Athol     5084    SA"
      ]
     },
     "execution_count": 26,
     "metadata": {},
     "output_type": "execute_result"
    }
   ],
   "source": [
    "electorates_df.head()"
   ]
  },
  {
   "cell_type": "code",
   "execution_count": 27,
   "metadata": {},
   "outputs": [],
   "source": [
    "for col in electorates_df.columns:\n",
    "    electorates_df[col] = electorates_df[col].astype(str).str.strip()"
   ]
  },
  {
   "cell_type": "code",
   "execution_count": 28,
   "metadata": {},
   "outputs": [
    {
     "data": {
      "text/plain": [
       "(17715, 4)"
      ]
     },
     "execution_count": 28,
     "metadata": {},
     "output_type": "execute_result"
    }
   ],
   "source": [
    "electorates_df.shape"
   ]
  },
  {
   "cell_type": "code",
   "execution_count": 29,
   "metadata": {},
   "outputs": [
    {
     "data": {
      "text/plain": [
       "(17668, 4)"
      ]
     },
     "execution_count": 29,
     "metadata": {},
     "output_type": "execute_result"
    }
   ],
   "source": [
    "electorates_df.drop_duplicates().shape"
   ]
  },
  {
   "cell_type": "code",
   "execution_count": 30,
   "metadata": {},
   "outputs": [],
   "source": [
    "electorates_df = electorates_df.drop_duplicates()"
   ]
  },
  {
   "cell_type": "code",
   "execution_count": 31,
   "metadata": {},
   "outputs": [],
   "source": [
    "electorates_df.to_csv(f\"{OUTPUT_DIR}/output.csv\",index = False)"
   ]
  },
  {
   "cell_type": "code",
   "execution_count": null,
   "metadata": {},
   "outputs": [],
   "source": []
  }
 ],
 "metadata": {
  "kernelspec": {
   "display_name": "Python 3.8.2 64-bit ('PythonData': conda)",
   "language": "python",
   "name": "python38264bitpythondatacondad75933a419364c33a0623b6a6469479d"
  },
  "language_info": {
   "codemirror_mode": {
    "name": "ipython",
    "version": 3
   },
   "file_extension": ".py",
   "mimetype": "text/x-python",
   "name": "python",
   "nbconvert_exporter": "python",
   "pygments_lexer": "ipython3",
   "version": "3.8.3"
  }
 },
 "nbformat": 4,
 "nbformat_minor": 4
}
