{
 "cells": [
  {
   "cell_type": "code",
   "execution_count": 1,
   "metadata": {},
   "outputs": [],
   "source": [
    "import pandas as pd"
   ]
  },
  {
   "cell_type": "markdown",
   "metadata": {},
   "source": [
    "# Load Exported Data\n",
    "\n",
    "Given we have called the theyvoteforyou.org.au api, and saved the list of members to a csv we can import it.\n"
   ]
  },
  {
   "cell_type": "code",
   "execution_count": 2,
   "metadata": {},
   "outputs": [
    {
     "data": {
      "text/html": [
       "<div>\n",
       "<style scoped>\n",
       "    .dataframe tbody tr th:only-of-type {\n",
       "        vertical-align: middle;\n",
       "    }\n",
       "\n",
       "    .dataframe tbody tr th {\n",
       "        vertical-align: top;\n",
       "    }\n",
       "\n",
       "    .dataframe thead th {\n",
       "        text-align: right;\n",
       "    }\n",
       "</style>\n",
       "<table border=\"1\" class=\"dataframe\">\n",
       "  <thead>\n",
       "    <tr style=\"text-align: right;\">\n",
       "      <th></th>\n",
       "      <th>id</th>\n",
       "      <th>latest_member.id</th>\n",
       "      <th>latest_member.name.first</th>\n",
       "      <th>latest_member.name.last</th>\n",
       "      <th>latest_member.electorate</th>\n",
       "      <th>latest_member.house</th>\n",
       "      <th>latest_member.party</th>\n",
       "    </tr>\n",
       "  </thead>\n",
       "  <tbody>\n",
       "    <tr>\n",
       "      <th>0</th>\n",
       "      <td>10007</td>\n",
       "      <td>6</td>\n",
       "      <td>Anthony</td>\n",
       "      <td>Albanese</td>\n",
       "      <td>Grayndler</td>\n",
       "      <td>representatives</td>\n",
       "      <td>Australian Labor Party</td>\n",
       "    </tr>\n",
       "    <tr>\n",
       "      <th>1</th>\n",
       "      <td>10014</td>\n",
       "      <td>13</td>\n",
       "      <td>Kevin</td>\n",
       "      <td>Andrews</td>\n",
       "      <td>Menzies</td>\n",
       "      <td>representatives</td>\n",
       "      <td>Liberal Party</td>\n",
       "    </tr>\n",
       "    <tr>\n",
       "      <th>2</th>\n",
       "      <td>10043</td>\n",
       "      <td>40</td>\n",
       "      <td>Sharon</td>\n",
       "      <td>Bird</td>\n",
       "      <td>Cunningham</td>\n",
       "      <td>representatives</td>\n",
       "      <td>Australian Labor Party</td>\n",
       "    </tr>\n",
       "    <tr>\n",
       "      <th>3</th>\n",
       "      <td>10081</td>\n",
       "      <td>69</td>\n",
       "      <td>Tony</td>\n",
       "      <td>Burke</td>\n",
       "      <td>Watson</td>\n",
       "      <td>representatives</td>\n",
       "      <td>Australian Labor Party</td>\n",
       "    </tr>\n",
       "    <tr>\n",
       "      <th>4</th>\n",
       "      <td>10088</td>\n",
       "      <td>74</td>\n",
       "      <td>Anthony</td>\n",
       "      <td>Byrne</td>\n",
       "      <td>Holt</td>\n",
       "      <td>representatives</td>\n",
       "      <td>Australian Labor Party</td>\n",
       "    </tr>\n",
       "  </tbody>\n",
       "</table>\n",
       "</div>"
      ],
      "text/plain": [
       "      id  latest_member.id latest_member.name.first latest_member.name.last  \\\n",
       "0  10007                 6                  Anthony                Albanese   \n",
       "1  10014                13                    Kevin                 Andrews   \n",
       "2  10043                40                   Sharon                    Bird   \n",
       "3  10081                69                     Tony                   Burke   \n",
       "4  10088                74                  Anthony                   Byrne   \n",
       "\n",
       "  latest_member.electorate latest_member.house     latest_member.party  \n",
       "0                Grayndler     representatives  Australian Labor Party  \n",
       "1                  Menzies     representatives           Liberal Party  \n",
       "2               Cunningham     representatives  Australian Labor Party  \n",
       "3                   Watson     representatives  Australian Labor Party  \n",
       "4                     Holt     representatives  Australian Labor Party  "
      ]
     },
     "execution_count": 2,
     "metadata": {},
     "output_type": "execute_result"
    }
   ],
   "source": [
    "members_df = pd.read_csv(\"01_extract_they_vote_for_you/output.csv\")\n",
    "\n",
    "members_df.head()"
   ]
  },
  {
   "cell_type": "code",
   "execution_count": 3,
   "metadata": {},
   "outputs": [
    {
     "data": {
      "text/plain": [
       "(227, 7)"
      ]
     },
     "execution_count": 3,
     "metadata": {},
     "output_type": "execute_result"
    }
   ],
   "source": [
    "members_df.shape"
   ]
  },
  {
   "cell_type": "markdown",
   "metadata": {},
   "source": [
    "# Clean Up Columns\n",
    "\n",
    "Given we have to potential identifying columns: \n",
    "* `id`\n",
    "* `latest_member.id`\n",
    "\n",
    "Let's confirm if they are actually unique and then keep one of them."
   ]
  },
  {
   "cell_type": "code",
   "execution_count": 4,
   "metadata": {},
   "outputs": [
    {
     "name": "stdout",
     "output_type": "stream",
     "text": [
      "id True\n",
      "latest_member.id True\n"
     ]
    }
   ],
   "source": [
    "for col in [\"id\", \"latest_member.id\"]:\n",
    "    is_unique = members_df[col].is_unique\n",
    "    print(col, is_unique)"
   ]
  },
  {
   "cell_type": "markdown",
   "metadata": {},
   "source": [
    "We could refer back to the API Docs to understand the signifigance of the two ID-like columns.\n",
    "However we will just drop the `id` column and keep `latest_member.id`"
   ]
  },
  {
   "cell_type": "code",
   "execution_count": 5,
   "metadata": {},
   "outputs": [
    {
     "data": {
      "text/html": [
       "<div>\n",
       "<style scoped>\n",
       "    .dataframe tbody tr th:only-of-type {\n",
       "        vertical-align: middle;\n",
       "    }\n",
       "\n",
       "    .dataframe tbody tr th {\n",
       "        vertical-align: top;\n",
       "    }\n",
       "\n",
       "    .dataframe thead th {\n",
       "        text-align: right;\n",
       "    }\n",
       "</style>\n",
       "<table border=\"1\" class=\"dataframe\">\n",
       "  <thead>\n",
       "    <tr style=\"text-align: right;\">\n",
       "      <th></th>\n",
       "      <th>latest_member.id</th>\n",
       "      <th>latest_member.name.first</th>\n",
       "      <th>latest_member.name.last</th>\n",
       "      <th>latest_member.electorate</th>\n",
       "      <th>latest_member.house</th>\n",
       "      <th>latest_member.party</th>\n",
       "    </tr>\n",
       "  </thead>\n",
       "  <tbody>\n",
       "    <tr>\n",
       "      <th>0</th>\n",
       "      <td>6</td>\n",
       "      <td>Anthony</td>\n",
       "      <td>Albanese</td>\n",
       "      <td>Grayndler</td>\n",
       "      <td>representatives</td>\n",
       "      <td>Australian Labor Party</td>\n",
       "    </tr>\n",
       "    <tr>\n",
       "      <th>1</th>\n",
       "      <td>13</td>\n",
       "      <td>Kevin</td>\n",
       "      <td>Andrews</td>\n",
       "      <td>Menzies</td>\n",
       "      <td>representatives</td>\n",
       "      <td>Liberal Party</td>\n",
       "    </tr>\n",
       "    <tr>\n",
       "      <th>2</th>\n",
       "      <td>40</td>\n",
       "      <td>Sharon</td>\n",
       "      <td>Bird</td>\n",
       "      <td>Cunningham</td>\n",
       "      <td>representatives</td>\n",
       "      <td>Australian Labor Party</td>\n",
       "    </tr>\n",
       "    <tr>\n",
       "      <th>3</th>\n",
       "      <td>69</td>\n",
       "      <td>Tony</td>\n",
       "      <td>Burke</td>\n",
       "      <td>Watson</td>\n",
       "      <td>representatives</td>\n",
       "      <td>Australian Labor Party</td>\n",
       "    </tr>\n",
       "    <tr>\n",
       "      <th>4</th>\n",
       "      <td>74</td>\n",
       "      <td>Anthony</td>\n",
       "      <td>Byrne</td>\n",
       "      <td>Holt</td>\n",
       "      <td>representatives</td>\n",
       "      <td>Australian Labor Party</td>\n",
       "    </tr>\n",
       "  </tbody>\n",
       "</table>\n",
       "</div>"
      ],
      "text/plain": [
       "   latest_member.id latest_member.name.first latest_member.name.last  \\\n",
       "0                 6                  Anthony                Albanese   \n",
       "1                13                    Kevin                 Andrews   \n",
       "2                40                   Sharon                    Bird   \n",
       "3                69                     Tony                   Burke   \n",
       "4                74                  Anthony                   Byrne   \n",
       "\n",
       "  latest_member.electorate latest_member.house     latest_member.party  \n",
       "0                Grayndler     representatives  Australian Labor Party  \n",
       "1                  Menzies     representatives           Liberal Party  \n",
       "2               Cunningham     representatives  Australian Labor Party  \n",
       "3                   Watson     representatives  Australian Labor Party  \n",
       "4                     Holt     representatives  Australian Labor Party  "
      ]
     },
     "execution_count": 5,
     "metadata": {},
     "output_type": "execute_result"
    }
   ],
   "source": [
    "members_df = members_df.drop([\"id\"], axis = 1)\n",
    "members_df.head()"
   ]
  },
  {
   "cell_type": "markdown",
   "metadata": {},
   "source": [
    "Let's normalise the column names"
   ]
  },
  {
   "cell_type": "code",
   "execution_count": 6,
   "metadata": {},
   "outputs": [
    {
     "data": {
      "text/plain": [
       "['id', 'name_first', 'name_last', 'electorate', 'house', 'party']"
      ]
     },
     "execution_count": 6,
     "metadata": {},
     "output_type": "execute_result"
    }
   ],
   "source": [
    "new_columns = [str(x).replace(\"latest_member.\", \"\") for x in members_df.columns]\n",
    "new_columns = [x.replace(\".\", \"_\") for x in new_columns]\n",
    "new_columns"
   ]
  },
  {
   "cell_type": "code",
   "execution_count": 7,
   "metadata": {
    "scrolled": true
   },
   "outputs": [
    {
     "data": {
      "text/html": [
       "<div>\n",
       "<style scoped>\n",
       "    .dataframe tbody tr th:only-of-type {\n",
       "        vertical-align: middle;\n",
       "    }\n",
       "\n",
       "    .dataframe tbody tr th {\n",
       "        vertical-align: top;\n",
       "    }\n",
       "\n",
       "    .dataframe thead th {\n",
       "        text-align: right;\n",
       "    }\n",
       "</style>\n",
       "<table border=\"1\" class=\"dataframe\">\n",
       "  <thead>\n",
       "    <tr style=\"text-align: right;\">\n",
       "      <th></th>\n",
       "      <th>id</th>\n",
       "      <th>name_first</th>\n",
       "      <th>name_last</th>\n",
       "      <th>electorate</th>\n",
       "      <th>house</th>\n",
       "      <th>party</th>\n",
       "    </tr>\n",
       "  </thead>\n",
       "  <tbody>\n",
       "    <tr>\n",
       "      <th>0</th>\n",
       "      <td>6</td>\n",
       "      <td>Anthony</td>\n",
       "      <td>Albanese</td>\n",
       "      <td>Grayndler</td>\n",
       "      <td>representatives</td>\n",
       "      <td>Australian Labor Party</td>\n",
       "    </tr>\n",
       "    <tr>\n",
       "      <th>1</th>\n",
       "      <td>13</td>\n",
       "      <td>Kevin</td>\n",
       "      <td>Andrews</td>\n",
       "      <td>Menzies</td>\n",
       "      <td>representatives</td>\n",
       "      <td>Liberal Party</td>\n",
       "    </tr>\n",
       "    <tr>\n",
       "      <th>2</th>\n",
       "      <td>40</td>\n",
       "      <td>Sharon</td>\n",
       "      <td>Bird</td>\n",
       "      <td>Cunningham</td>\n",
       "      <td>representatives</td>\n",
       "      <td>Australian Labor Party</td>\n",
       "    </tr>\n",
       "    <tr>\n",
       "      <th>3</th>\n",
       "      <td>69</td>\n",
       "      <td>Tony</td>\n",
       "      <td>Burke</td>\n",
       "      <td>Watson</td>\n",
       "      <td>representatives</td>\n",
       "      <td>Australian Labor Party</td>\n",
       "    </tr>\n",
       "    <tr>\n",
       "      <th>4</th>\n",
       "      <td>74</td>\n",
       "      <td>Anthony</td>\n",
       "      <td>Byrne</td>\n",
       "      <td>Holt</td>\n",
       "      <td>representatives</td>\n",
       "      <td>Australian Labor Party</td>\n",
       "    </tr>\n",
       "  </tbody>\n",
       "</table>\n",
       "</div>"
      ],
      "text/plain": [
       "   id name_first name_last  electorate            house  \\\n",
       "0   6    Anthony  Albanese   Grayndler  representatives   \n",
       "1  13      Kevin   Andrews     Menzies  representatives   \n",
       "2  40     Sharon      Bird  Cunningham  representatives   \n",
       "3  69       Tony     Burke      Watson  representatives   \n",
       "4  74    Anthony     Byrne        Holt  representatives   \n",
       "\n",
       "                    party  \n",
       "0  Australian Labor Party  \n",
       "1           Liberal Party  \n",
       "2  Australian Labor Party  \n",
       "3  Australian Labor Party  \n",
       "4  Australian Labor Party  "
      ]
     },
     "execution_count": 7,
     "metadata": {},
     "output_type": "execute_result"
    }
   ],
   "source": [
    "members_df.columns = new_columns\n",
    "members_df.head()"
   ]
  },
  {
   "cell_type": "markdown",
   "metadata": {},
   "source": [
    "# DataType Checks\n",
    "\n",
    "Based on a sample of the dataset, I assume that following datatypes exist:\n",
    "* id - integer\n",
    "* name_first - string\n",
    "* name_last - string\n",
    "* electorate - string\n",
    "* house - string\n",
    "* party - string"
   ]
  },
  {
   "cell_type": "code",
   "execution_count": 8,
   "metadata": {},
   "outputs": [
    {
     "data": {
      "text/plain": [
       "id             int64\n",
       "name_first    object\n",
       "name_last     object\n",
       "electorate    object\n",
       "house         object\n",
       "party         object\n",
       "dtype: object"
      ]
     },
     "execution_count": 8,
     "metadata": {},
     "output_type": "execute_result"
    }
   ],
   "source": [
    "members_df.dtypes"
   ]
  },
  {
   "cell_type": "markdown",
   "metadata": {},
   "source": [
    "# NULL Value Checks\n",
    "\n",
    "By using pandas.describe and making to produce stats for all columns (not just numeric types) we can quickly confirm that there are values for every observation."
   ]
  },
  {
   "cell_type": "code",
   "execution_count": 9,
   "metadata": {},
   "outputs": [
    {
     "data": {
      "text/html": [
       "<div>\n",
       "<style scoped>\n",
       "    .dataframe tbody tr th:only-of-type {\n",
       "        vertical-align: middle;\n",
       "    }\n",
       "\n",
       "    .dataframe tbody tr th {\n",
       "        vertical-align: top;\n",
       "    }\n",
       "\n",
       "    .dataframe thead th {\n",
       "        text-align: right;\n",
       "    }\n",
       "</style>\n",
       "<table border=\"1\" class=\"dataframe\">\n",
       "  <thead>\n",
       "    <tr style=\"text-align: right;\">\n",
       "      <th></th>\n",
       "      <th>id</th>\n",
       "      <th>name_first</th>\n",
       "      <th>name_last</th>\n",
       "      <th>electorate</th>\n",
       "      <th>house</th>\n",
       "      <th>party</th>\n",
       "    </tr>\n",
       "  </thead>\n",
       "  <tbody>\n",
       "    <tr>\n",
       "      <th>count</th>\n",
       "      <td>227.000000</td>\n",
       "      <td>227</td>\n",
       "      <td>227</td>\n",
       "      <td>227</td>\n",
       "      <td>227</td>\n",
       "      <td>227</td>\n",
       "    </tr>\n",
       "    <tr>\n",
       "      <th>unique</th>\n",
       "      <td>NaN</td>\n",
       "      <td>157</td>\n",
       "      <td>214</td>\n",
       "      <td>159</td>\n",
       "      <td>2</td>\n",
       "      <td>15</td>\n",
       "    </tr>\n",
       "    <tr>\n",
       "      <th>top</th>\n",
       "      <td>NaN</td>\n",
       "      <td>Andrew</td>\n",
       "      <td>Smith</td>\n",
       "      <td>NSW</td>\n",
       "      <td>representatives</td>\n",
       "      <td>Australian Labor Party</td>\n",
       "    </tr>\n",
       "    <tr>\n",
       "      <th>freq</th>\n",
       "      <td>NaN</td>\n",
       "      <td>9</td>\n",
       "      <td>4</td>\n",
       "      <td>12</td>\n",
       "      <td>151</td>\n",
       "      <td>93</td>\n",
       "    </tr>\n",
       "    <tr>\n",
       "      <th>mean</th>\n",
       "      <td>34109.506608</td>\n",
       "      <td>NaN</td>\n",
       "      <td>NaN</td>\n",
       "      <td>NaN</td>\n",
       "      <td>NaN</td>\n",
       "      <td>NaN</td>\n",
       "    </tr>\n",
       "    <tr>\n",
       "      <th>std</th>\n",
       "      <td>47326.699201</td>\n",
       "      <td>NaN</td>\n",
       "      <td>NaN</td>\n",
       "      <td>NaN</td>\n",
       "      <td>NaN</td>\n",
       "      <td>NaN</td>\n",
       "    </tr>\n",
       "    <tr>\n",
       "      <th>min</th>\n",
       "      <td>6.000000</td>\n",
       "      <td>NaN</td>\n",
       "      <td>NaN</td>\n",
       "      <td>NaN</td>\n",
       "      <td>NaN</td>\n",
       "      <td>NaN</td>\n",
       "    </tr>\n",
       "    <tr>\n",
       "      <th>25%</th>\n",
       "      <td>642.500000</td>\n",
       "      <td>NaN</td>\n",
       "      <td>NaN</td>\n",
       "      <td>NaN</td>\n",
       "      <td>NaN</td>\n",
       "      <td>NaN</td>\n",
       "    </tr>\n",
       "    <tr>\n",
       "      <th>50%</th>\n",
       "      <td>728.000000</td>\n",
       "      <td>NaN</td>\n",
       "      <td>NaN</td>\n",
       "      <td>NaN</td>\n",
       "      <td>NaN</td>\n",
       "      <td>NaN</td>\n",
       "    </tr>\n",
       "    <tr>\n",
       "      <th>75%</th>\n",
       "      <td>100300.000000</td>\n",
       "      <td>NaN</td>\n",
       "      <td>NaN</td>\n",
       "      <td>NaN</td>\n",
       "      <td>NaN</td>\n",
       "      <td>NaN</td>\n",
       "    </tr>\n",
       "    <tr>\n",
       "      <th>max</th>\n",
       "      <td>100923.000000</td>\n",
       "      <td>NaN</td>\n",
       "      <td>NaN</td>\n",
       "      <td>NaN</td>\n",
       "      <td>NaN</td>\n",
       "      <td>NaN</td>\n",
       "    </tr>\n",
       "  </tbody>\n",
       "</table>\n",
       "</div>"
      ],
      "text/plain": [
       "                   id name_first name_last electorate            house  \\\n",
       "count      227.000000        227       227        227              227   \n",
       "unique            NaN        157       214        159                2   \n",
       "top               NaN     Andrew     Smith        NSW  representatives   \n",
       "freq              NaN          9         4         12              151   \n",
       "mean     34109.506608        NaN       NaN        NaN              NaN   \n",
       "std      47326.699201        NaN       NaN        NaN              NaN   \n",
       "min          6.000000        NaN       NaN        NaN              NaN   \n",
       "25%        642.500000        NaN       NaN        NaN              NaN   \n",
       "50%        728.000000        NaN       NaN        NaN              NaN   \n",
       "75%     100300.000000        NaN       NaN        NaN              NaN   \n",
       "max     100923.000000        NaN       NaN        NaN              NaN   \n",
       "\n",
       "                         party  \n",
       "count                      227  \n",
       "unique                      15  \n",
       "top     Australian Labor Party  \n",
       "freq                        93  \n",
       "mean                       NaN  \n",
       "std                        NaN  \n",
       "min                        NaN  \n",
       "25%                        NaN  \n",
       "50%                        NaN  \n",
       "75%                        NaN  \n",
       "max                        NaN  "
      ]
     },
     "execution_count": 9,
     "metadata": {},
     "output_type": "execute_result"
    }
   ],
   "source": [
    "members_df.describe(include=\"all\")"
   ]
  },
  {
   "cell_type": "markdown",
   "metadata": {},
   "source": [
    "It appears there are values in every column in every observation"
   ]
  },
  {
   "cell_type": "markdown",
   "metadata": {},
   "source": [
    "# Distribution Checks\n",
    "\n",
    "## Party\n",
    "\n",
    "I assume that the breakdown by party will approximately 40% / 40% / 20% for Labor / Liberal / (others)\n"
   ]
  },
  {
   "cell_type": "code",
   "execution_count": 10,
   "metadata": {},
   "outputs": [
    {
     "data": {
      "text/plain": [
       "<matplotlib.axes._subplots.AxesSubplot at 0x259d0413160>"
      ]
     },
     "execution_count": 10,
     "metadata": {},
     "output_type": "execute_result"
    },
    {
     "data": {
      "image/png": "[encoded data removed]",
      "text/plain": [
       "<Figure size 432x288 with 1 Axes>"
      ]
     },
     "metadata": {
      "needs_background": "light"
     },
     "output_type": "display_data"
    }
   ],
   "source": [
    "pd.DataFrame(members_df[\"party\"].value_counts()).plot.barh()"
   ]
  },
  {
   "cell_type": "markdown",
   "metadata": {},
   "source": [
    "## House\n",
    "\n",
    "Let's inspect the disribution of values in the `house` column"
   ]
  },
  {
   "cell_type": "code",
   "execution_count": 11,
   "metadata": {},
   "outputs": [
    {
     "data": {
      "text/plain": [
       "<matplotlib.axes._subplots.AxesSubplot at 0x259d0baa850>"
      ]
     },
     "execution_count": 11,
     "metadata": {},
     "output_type": "execute_result"
    },
    {
     "data": {
      "image/png": "[encoded data removed]",
      "text/plain": [
       "<Figure size 432x288 with 1 Axes>"
      ]
     },
     "metadata": {
      "needs_background": "light"
     },
     "output_type": "display_data"
    }
   ],
   "source": [
    "pd.DataFrame(members_df[\"house\"].value_counts()).plot.barh()"
   ]
  },
  {
   "cell_type": "markdown",
   "metadata": {},
   "source": [
    "This column could be modelled as two columns of:\n",
    "* senate\n",
    "* representatives\n",
    "\n",
    "Where the values are `True` or `False`"
   ]
  },
  {
   "cell_type": "markdown",
   "metadata": {},
   "source": [
    "# Electorate\n",
    "\n",
    "Is this column a unique value?"
   ]
  },
  {
   "cell_type": "code",
   "execution_count": 12,
   "metadata": {},
   "outputs": [
    {
     "data": {
      "text/plain": [
       "False"
      ]
     },
     "execution_count": 12,
     "metadata": {},
     "output_type": "execute_result"
    }
   ],
   "source": [
    "members_df[\"electorate\"].is_unique"
   ]
  },
  {
   "cell_type": "code",
   "execution_count": 13,
   "metadata": {},
   "outputs": [
    {
     "data": {
      "text/html": [
       "<div>\n",
       "<style scoped>\n",
       "    .dataframe tbody tr th:only-of-type {\n",
       "        vertical-align: middle;\n",
       "    }\n",
       "\n",
       "    .dataframe tbody tr th {\n",
       "        vertical-align: top;\n",
       "    }\n",
       "\n",
       "    .dataframe thead th {\n",
       "        text-align: right;\n",
       "    }\n",
       "</style>\n",
       "<table border=\"1\" class=\"dataframe\">\n",
       "  <thead>\n",
       "    <tr style=\"text-align: right;\">\n",
       "      <th></th>\n",
       "      <th>electorate</th>\n",
       "    </tr>\n",
       "  </thead>\n",
       "  <tbody>\n",
       "    <tr>\n",
       "      <th>NSW</th>\n",
       "      <td>12</td>\n",
       "    </tr>\n",
       "    <tr>\n",
       "      <th>Victoria</th>\n",
       "      <td>12</td>\n",
       "    </tr>\n",
       "    <tr>\n",
       "      <th>WA</th>\n",
       "      <td>12</td>\n",
       "    </tr>\n",
       "    <tr>\n",
       "      <th>SA</th>\n",
       "      <td>12</td>\n",
       "    </tr>\n",
       "    <tr>\n",
       "      <th>Tasmania</th>\n",
       "      <td>12</td>\n",
       "    </tr>\n",
       "    <tr>\n",
       "      <th>...</th>\n",
       "      <td>...</td>\n",
       "    </tr>\n",
       "    <tr>\n",
       "      <th>Wannon</th>\n",
       "      <td>1</td>\n",
       "    </tr>\n",
       "    <tr>\n",
       "      <th>Lyons</th>\n",
       "      <td>1</td>\n",
       "    </tr>\n",
       "    <tr>\n",
       "      <th>Kooyong</th>\n",
       "      <td>1</td>\n",
       "    </tr>\n",
       "    <tr>\n",
       "      <th>Lalor</th>\n",
       "      <td>1</td>\n",
       "    </tr>\n",
       "    <tr>\n",
       "      <th>Robertson</th>\n",
       "      <td>1</td>\n",
       "    </tr>\n",
       "  </tbody>\n",
       "</table>\n",
       "<p>159 rows × 1 columns</p>\n",
       "</div>"
      ],
      "text/plain": [
       "           electorate\n",
       "NSW                12\n",
       "Victoria           12\n",
       "WA                 12\n",
       "SA                 12\n",
       "Tasmania           12\n",
       "...               ...\n",
       "Wannon              1\n",
       "Lyons               1\n",
       "Kooyong             1\n",
       "Lalor               1\n",
       "Robertson           1\n",
       "\n",
       "[159 rows x 1 columns]"
      ]
     },
     "execution_count": 13,
     "metadata": {},
     "output_type": "execute_result"
    }
   ],
   "source": [
    "electorate_count_df =  pd.DataFrame(members_df[\"electorate\"].value_counts())\n",
    "electorate_count_df = electorate_count_df.sort_values(\"electorate\", ascending = False)\n",
    "electorate_count_df"
   ]
  },
  {
   "cell_type": "markdown",
   "metadata": {},
   "source": [
    "Is there a relationship between `electorate` and `house` - because in the electorate column we seem to have two levels of geographical abstraction: State and LGA"
   ]
  },
  {
   "cell_type": "code",
   "execution_count": 14,
   "metadata": {},
   "outputs": [],
   "source": [
    "house_electorate_df = members_df[[\"electorate\", \"house\", \"party\"]].groupby([\"house\", \"electorate\"]).count()\n",
    "house_electorate_df.columns = [\"count\"]"
   ]
  },
  {
   "cell_type": "markdown",
   "metadata": {},
   "source": [
    "I suspect the senate group will have the states present"
   ]
  },
  {
   "cell_type": "code",
   "execution_count": 15,
   "metadata": {},
   "outputs": [
    {
     "data": {
      "text/html": [
       "<div>\n",
       "<style scoped>\n",
       "    .dataframe tbody tr th:only-of-type {\n",
       "        vertical-align: middle;\n",
       "    }\n",
       "\n",
       "    .dataframe tbody tr th {\n",
       "        vertical-align: top;\n",
       "    }\n",
       "\n",
       "    .dataframe thead th {\n",
       "        text-align: right;\n",
       "    }\n",
       "</style>\n",
       "<table border=\"1\" class=\"dataframe\">\n",
       "  <thead>\n",
       "    <tr style=\"text-align: right;\">\n",
       "      <th></th>\n",
       "      <th>count</th>\n",
       "    </tr>\n",
       "    <tr>\n",
       "      <th>electorate</th>\n",
       "      <th></th>\n",
       "    </tr>\n",
       "  </thead>\n",
       "  <tbody>\n",
       "    <tr>\n",
       "      <th>ACT</th>\n",
       "      <td>2</td>\n",
       "    </tr>\n",
       "    <tr>\n",
       "      <th>NSW</th>\n",
       "      <td>12</td>\n",
       "    </tr>\n",
       "    <tr>\n",
       "      <th>NT</th>\n",
       "      <td>2</td>\n",
       "    </tr>\n",
       "    <tr>\n",
       "      <th>Queensland</th>\n",
       "      <td>12</td>\n",
       "    </tr>\n",
       "    <tr>\n",
       "      <th>SA</th>\n",
       "      <td>12</td>\n",
       "    </tr>\n",
       "    <tr>\n",
       "      <th>Tasmania</th>\n",
       "      <td>12</td>\n",
       "    </tr>\n",
       "    <tr>\n",
       "      <th>Victoria</th>\n",
       "      <td>12</td>\n",
       "    </tr>\n",
       "    <tr>\n",
       "      <th>WA</th>\n",
       "      <td>12</td>\n",
       "    </tr>\n",
       "  </tbody>\n",
       "</table>\n",
       "</div>"
      ],
      "text/plain": [
       "            count\n",
       "electorate       \n",
       "ACT             2\n",
       "NSW            12\n",
       "NT              2\n",
       "Queensland     12\n",
       "SA             12\n",
       "Tasmania       12\n",
       "Victoria       12\n",
       "WA             12"
      ]
     },
     "execution_count": 15,
     "metadata": {},
     "output_type": "execute_result"
    }
   ],
   "source": [
    "house_electorate_df.loc[\"senate\"]"
   ]
  },
  {
   "cell_type": "markdown",
   "metadata": {},
   "source": [
    "I suspect the representatives level will have a max count of 1 - i.e. in the case of \"house\" being \"representatives\" the value in electorate is unique."
   ]
  },
  {
   "cell_type": "code",
   "execution_count": 16,
   "metadata": {},
   "outputs": [
    {
     "data": {
      "text/plain": [
       "1"
      ]
     },
     "execution_count": 16,
     "metadata": {},
     "output_type": "execute_result"
    }
   ],
   "source": [
    "house_electorate_df.loc[\"representatives\"][\"count\"].max()"
   ]
  },
  {
   "cell_type": "markdown",
   "metadata": {},
   "source": [
    "Let's inspect the members who have an electorate that is a state"
   ]
  },
  {
   "cell_type": "code",
   "execution_count": 17,
   "metadata": {},
   "outputs": [],
   "source": [
    "states = house_electorate_df.loc[\"senate\"].index.values"
   ]
  },
  {
   "cell_type": "code",
   "execution_count": 18,
   "metadata": {},
   "outputs": [
    {
     "data": {
      "text/html": [
       "<div>\n",
       "<style scoped>\n",
       "    .dataframe tbody tr th:only-of-type {\n",
       "        vertical-align: middle;\n",
       "    }\n",
       "\n",
       "    .dataframe tbody tr th {\n",
       "        vertical-align: top;\n",
       "    }\n",
       "\n",
       "    .dataframe thead th {\n",
       "        text-align: right;\n",
       "    }\n",
       "</style>\n",
       "<table border=\"1\" class=\"dataframe\">\n",
       "  <thead>\n",
       "    <tr style=\"text-align: right;\">\n",
       "      <th></th>\n",
       "      <th>id</th>\n",
       "      <th>name_first</th>\n",
       "      <th>name_last</th>\n",
       "      <th>electorate</th>\n",
       "      <th>house</th>\n",
       "      <th>party</th>\n",
       "    </tr>\n",
       "  </thead>\n",
       "  <tbody>\n",
       "    <tr>\n",
       "      <th>151</th>\n",
       "      <td>100001</td>\n",
       "      <td>Eric</td>\n",
       "      <td>Abetz</td>\n",
       "      <td>Tasmania</td>\n",
       "      <td>senate</td>\n",
       "      <td>Liberal Party</td>\n",
       "    </tr>\n",
       "    <tr>\n",
       "      <th>152</th>\n",
       "      <td>100014</td>\n",
       "      <td>Simon</td>\n",
       "      <td>Birmingham</td>\n",
       "      <td>SA</td>\n",
       "      <td>senate</td>\n",
       "      <td>Liberal Party</td>\n",
       "    </tr>\n",
       "    <tr>\n",
       "      <th>153</th>\n",
       "      <td>100026</td>\n",
       "      <td>Carol</td>\n",
       "      <td>Brown</td>\n",
       "      <td>Tasmania</td>\n",
       "      <td>senate</td>\n",
       "      <td>Australian Labor Party</td>\n",
       "    </tr>\n",
       "    <tr>\n",
       "      <th>154</th>\n",
       "      <td>100036</td>\n",
       "      <td>Kim</td>\n",
       "      <td>Carr</td>\n",
       "      <td>Victoria</td>\n",
       "      <td>senate</td>\n",
       "      <td>Australian Labor Party</td>\n",
       "    </tr>\n",
       "    <tr>\n",
       "      <th>155</th>\n",
       "      <td>100057</td>\n",
       "      <td>Mathias</td>\n",
       "      <td>Cormann</td>\n",
       "      <td>WA</td>\n",
       "      <td>senate</td>\n",
       "      <td>Liberal Party</td>\n",
       "    </tr>\n",
       "    <tr>\n",
       "      <th>...</th>\n",
       "      <td>...</td>\n",
       "      <td>...</td>\n",
       "      <td>...</td>\n",
       "      <td>...</td>\n",
       "      <td>...</td>\n",
       "      <td>...</td>\n",
       "    </tr>\n",
       "    <tr>\n",
       "      <th>222</th>\n",
       "      <td>100919</td>\n",
       "      <td>David</td>\n",
       "      <td>Van</td>\n",
       "      <td>Victoria</td>\n",
       "      <td>senate</td>\n",
       "      <td>Liberal Party</td>\n",
       "    </tr>\n",
       "    <tr>\n",
       "      <th>223</th>\n",
       "      <td>100920</td>\n",
       "      <td>Jess</td>\n",
       "      <td>Walsh</td>\n",
       "      <td>Victoria</td>\n",
       "      <td>senate</td>\n",
       "      <td>Australian Labor Party</td>\n",
       "    </tr>\n",
       "    <tr>\n",
       "      <th>224</th>\n",
       "      <td>100921</td>\n",
       "      <td>Sarah</td>\n",
       "      <td>Henderson</td>\n",
       "      <td>Victoria</td>\n",
       "      <td>senate</td>\n",
       "      <td>Liberal Party</td>\n",
       "    </tr>\n",
       "    <tr>\n",
       "      <th>225</th>\n",
       "      <td>100922</td>\n",
       "      <td>Jim</td>\n",
       "      <td>Molan</td>\n",
       "      <td>NSW</td>\n",
       "      <td>senate</td>\n",
       "      <td>Liberal Party</td>\n",
       "    </tr>\n",
       "    <tr>\n",
       "      <th>226</th>\n",
       "      <td>100923</td>\n",
       "      <td>Andrew</td>\n",
       "      <td>McLachlan</td>\n",
       "      <td>SA</td>\n",
       "      <td>senate</td>\n",
       "      <td>Liberal Party</td>\n",
       "    </tr>\n",
       "  </tbody>\n",
       "</table>\n",
       "<p>76 rows × 6 columns</p>\n",
       "</div>"
      ],
      "text/plain": [
       "         id name_first   name_last electorate   house                   party\n",
       "151  100001       Eric       Abetz   Tasmania  senate           Liberal Party\n",
       "152  100014      Simon  Birmingham         SA  senate           Liberal Party\n",
       "153  100026      Carol       Brown   Tasmania  senate  Australian Labor Party\n",
       "154  100036        Kim        Carr   Victoria  senate  Australian Labor Party\n",
       "155  100057    Mathias     Cormann         WA  senate           Liberal Party\n",
       "..      ...        ...         ...        ...     ...                     ...\n",
       "222  100919      David         Van   Victoria  senate           Liberal Party\n",
       "223  100920       Jess       Walsh   Victoria  senate  Australian Labor Party\n",
       "224  100921      Sarah   Henderson   Victoria  senate           Liberal Party\n",
       "225  100922        Jim       Molan        NSW  senate           Liberal Party\n",
       "226  100923     Andrew   McLachlan         SA  senate           Liberal Party\n",
       "\n",
       "[76 rows x 6 columns]"
      ]
     },
     "execution_count": 18,
     "metadata": {},
     "output_type": "execute_result"
    }
   ],
   "source": [
    "members_df.loc[members_df[\"electorate\"].isin(states)]"
   ]
  },
  {
   "cell_type": "markdown",
   "metadata": {},
   "source": [
    "Given I want to map members to postcode, I will omit members who's electorate is a state"
   ]
  },
  {
   "cell_type": "code",
   "execution_count": 19,
   "metadata": {},
   "outputs": [],
   "source": [
    "representatives_df = members_df.loc[~members_df[\"electorate\"].isin(states)]"
   ]
  },
  {
   "cell_type": "code",
   "execution_count": 20,
   "metadata": {},
   "outputs": [
    {
     "data": {
      "text/plain": [
       "(151, 6)"
      ]
     },
     "execution_count": 20,
     "metadata": {},
     "output_type": "execute_result"
    }
   ],
   "source": [
    "representatives_df.shape"
   ]
  },
  {
   "cell_type": "markdown",
   "metadata": {},
   "source": [
    "### Re-inspect House"
   ]
  },
  {
   "cell_type": "code",
   "execution_count": 21,
   "metadata": {},
   "outputs": [
    {
     "data": {
      "text/plain": [
       "representatives    151\n",
       "Name: house, dtype: int64"
      ]
     },
     "execution_count": 21,
     "metadata": {},
     "output_type": "execute_result"
    }
   ],
   "source": [
    "representatives_df[\"house\"].value_counts()"
   ]
  },
  {
   "cell_type": "markdown",
   "metadata": {},
   "source": [
    "Given house contains redundent information let's drop it"
   ]
  },
  {
   "cell_type": "code",
   "execution_count": 22,
   "metadata": {},
   "outputs": [],
   "source": [
    "representatives_df = representatives_df.drop([\"house\"], axis = 1)"
   ]
  },
  {
   "cell_type": "code",
   "execution_count": 23,
   "metadata": {},
   "outputs": [
    {
     "data": {
      "text/html": [
       "<div>\n",
       "<style scoped>\n",
       "    .dataframe tbody tr th:only-of-type {\n",
       "        vertical-align: middle;\n",
       "    }\n",
       "\n",
       "    .dataframe tbody tr th {\n",
       "        vertical-align: top;\n",
       "    }\n",
       "\n",
       "    .dataframe thead th {\n",
       "        text-align: right;\n",
       "    }\n",
       "</style>\n",
       "<table border=\"1\" class=\"dataframe\">\n",
       "  <thead>\n",
       "    <tr style=\"text-align: right;\">\n",
       "      <th></th>\n",
       "      <th>id</th>\n",
       "      <th>name_first</th>\n",
       "      <th>name_last</th>\n",
       "      <th>electorate</th>\n",
       "      <th>party</th>\n",
       "    </tr>\n",
       "  </thead>\n",
       "  <tbody>\n",
       "    <tr>\n",
       "      <th>0</th>\n",
       "      <td>6</td>\n",
       "      <td>Anthony</td>\n",
       "      <td>Albanese</td>\n",
       "      <td>Grayndler</td>\n",
       "      <td>Australian Labor Party</td>\n",
       "    </tr>\n",
       "    <tr>\n",
       "      <th>1</th>\n",
       "      <td>13</td>\n",
       "      <td>Kevin</td>\n",
       "      <td>Andrews</td>\n",
       "      <td>Menzies</td>\n",
       "      <td>Liberal Party</td>\n",
       "    </tr>\n",
       "    <tr>\n",
       "      <th>2</th>\n",
       "      <td>40</td>\n",
       "      <td>Sharon</td>\n",
       "      <td>Bird</td>\n",
       "      <td>Cunningham</td>\n",
       "      <td>Australian Labor Party</td>\n",
       "    </tr>\n",
       "    <tr>\n",
       "      <th>3</th>\n",
       "      <td>69</td>\n",
       "      <td>Tony</td>\n",
       "      <td>Burke</td>\n",
       "      <td>Watson</td>\n",
       "      <td>Australian Labor Party</td>\n",
       "    </tr>\n",
       "    <tr>\n",
       "      <th>4</th>\n",
       "      <td>74</td>\n",
       "      <td>Anthony</td>\n",
       "      <td>Byrne</td>\n",
       "      <td>Holt</td>\n",
       "      <td>Australian Labor Party</td>\n",
       "    </tr>\n",
       "  </tbody>\n",
       "</table>\n",
       "</div>"
      ],
      "text/plain": [
       "   id name_first name_last  electorate                   party\n",
       "0   6    Anthony  Albanese   Grayndler  Australian Labor Party\n",
       "1  13      Kevin   Andrews     Menzies           Liberal Party\n",
       "2  40     Sharon      Bird  Cunningham  Australian Labor Party\n",
       "3  69       Tony     Burke      Watson  Australian Labor Party\n",
       "4  74    Anthony     Byrne        Holt  Australian Labor Party"
      ]
     },
     "execution_count": 23,
     "metadata": {},
     "output_type": "execute_result"
    }
   ],
   "source": [
    "representatives_df.head()"
   ]
  },
  {
   "cell_type": "markdown",
   "metadata": {},
   "source": [
    "# Output Transform Records\n"
   ]
  },
  {
   "cell_type": "code",
   "execution_count": 24,
   "metadata": {},
   "outputs": [
    {
     "data": {
      "text/html": [
       "<div>\n",
       "<style scoped>\n",
       "    .dataframe tbody tr th:only-of-type {\n",
       "        vertical-align: middle;\n",
       "    }\n",
       "\n",
       "    .dataframe tbody tr th {\n",
       "        vertical-align: top;\n",
       "    }\n",
       "\n",
       "    .dataframe thead th {\n",
       "        text-align: right;\n",
       "    }\n",
       "</style>\n",
       "<table border=\"1\" class=\"dataframe\">\n",
       "  <thead>\n",
       "    <tr style=\"text-align: right;\">\n",
       "      <th></th>\n",
       "      <th>name_first</th>\n",
       "      <th>name_last</th>\n",
       "      <th>electorate</th>\n",
       "      <th>party</th>\n",
       "    </tr>\n",
       "    <tr>\n",
       "      <th>id</th>\n",
       "      <th></th>\n",
       "      <th></th>\n",
       "      <th></th>\n",
       "      <th></th>\n",
       "    </tr>\n",
       "  </thead>\n",
       "  <tbody>\n",
       "    <tr>\n",
       "      <th>6</th>\n",
       "      <td>Anthony</td>\n",
       "      <td>Albanese</td>\n",
       "      <td>Grayndler</td>\n",
       "      <td>Australian Labor Party</td>\n",
       "    </tr>\n",
       "    <tr>\n",
       "      <th>13</th>\n",
       "      <td>Kevin</td>\n",
       "      <td>Andrews</td>\n",
       "      <td>Menzies</td>\n",
       "      <td>Liberal Party</td>\n",
       "    </tr>\n",
       "    <tr>\n",
       "      <th>40</th>\n",
       "      <td>Sharon</td>\n",
       "      <td>Bird</td>\n",
       "      <td>Cunningham</td>\n",
       "      <td>Australian Labor Party</td>\n",
       "    </tr>\n",
       "    <tr>\n",
       "      <th>69</th>\n",
       "      <td>Tony</td>\n",
       "      <td>Burke</td>\n",
       "      <td>Watson</td>\n",
       "      <td>Australian Labor Party</td>\n",
       "    </tr>\n",
       "    <tr>\n",
       "      <th>74</th>\n",
       "      <td>Anthony</td>\n",
       "      <td>Byrne</td>\n",
       "      <td>Holt</td>\n",
       "      <td>Australian Labor Party</td>\n",
       "    </tr>\n",
       "  </tbody>\n",
       "</table>\n",
       "</div>"
      ],
      "text/plain": [
       "   name_first name_last  electorate                   party\n",
       "id                                                         \n",
       "6     Anthony  Albanese   Grayndler  Australian Labor Party\n",
       "13      Kevin   Andrews     Menzies           Liberal Party\n",
       "40     Sharon      Bird  Cunningham  Australian Labor Party\n",
       "69       Tony     Burke      Watson  Australian Labor Party\n",
       "74    Anthony     Byrne        Holt  Australian Labor Party"
      ]
     },
     "execution_count": 24,
     "metadata": {},
     "output_type": "execute_result"
    }
   ],
   "source": [
    "representatives_df = representatives_df.set_index(\"id\")\n",
    "representatives_df.head()"
   ]
  },
  {
   "cell_type": "code",
   "execution_count": 25,
   "metadata": {},
   "outputs": [],
   "source": [
    "representatives_df.to_csv(\"02_transform_they_vote_for_you/output.csv\", index = True)"
   ]
  }
 ],
 "metadata": {
  "kernelspec": {
   "display_name": "Python 3.8.2 64-bit ('PythonData': conda)",
   "language": "python",
   "name": "python38264bitpythondatacondad75933a419364c33a0623b6a6469479d"
  },
  "language_info": {
   "codemirror_mode": {
    "name": "ipython",
    "version": 3
   },
   "file_extension": ".py",
   "mimetype": "text/x-python",
   "name": "python",
   "nbconvert_exporter": "python",
   "pygments_lexer": "ipython3",
   "version": "3.8.3"
  }
 },
 "nbformat": 4,
 "nbformat_minor": 4
}
