{
 "cells": [
  {
   "cell_type": "code",
   "execution_count": 1,
   "metadata": {},
   "outputs": [],
   "source": [
    "import pandas as pd\n",
    "import requests"
   ]
  },
  {
   "cell_type": "code",
   "execution_count": 2,
   "metadata": {},
   "outputs": [],
   "source": [
    "try:\n",
    "    from config.key import theyvoteforyou_key\n",
    "except ModuleNotFoundError:\n",
    "    theyvoteforyou_key = input(\"What is your theyvoteforyou.org.au API key?\")"
   ]
  },
  {
   "cell_type": "markdown",
   "metadata": {},
   "source": [
    "# Get Parliamentary Members from TheyVoteForYou.org.au\n",
    "\n",
    "Let's get all of the members of parliament, via an api.\n",
    "\n",
    "API description from: https://theyvoteforyou.org.au/help/data#people\n",
    "\n",
    "> This returns basic information about each person who is currently a member of parliament. It includes their name, electorate, party and whether they are in the House of Representatives or the Senate.\n",
    "\n",
    "An example of a member json data looks like this:\n",
    "```json\n",
    "{\n",
    "   \"id\":10007,\n",
    "   \"latest_member\":{\n",
    "      \"id\":6,\n",
    "      \"name\":{\n",
    "         \"first\":\"Anthony\",\n",
    "         \"last\":\"Albanese\"\n",
    "      },\n",
    "      \"electorate\":\"Grayndler\",\n",
    "      \"house\":\"representatives\",\n",
    "      \"party\":\"Australian Labor Party\"\n",
    "   }\n",
    "}\n",
    "```"
   ]
  },
  {
   "cell_type": "code",
   "execution_count": 3,
   "metadata": {},
   "outputs": [],
   "source": [
    "url = f\"https://theyvoteforyou.org.au/api/v1/people.json?key={theyvoteforyou_key}\"\n",
    "\n",
    "r = requests.get(url)"
   ]
  },
  {
   "cell_type": "markdown",
   "metadata": {},
   "source": [
    "Write out the returned json for inspection purposes."
   ]
  },
  {
   "cell_type": "code",
   "execution_count": 4,
   "metadata": {},
   "outputs": [],
   "source": [
    "with open(\"01_extract_they_vote_for_you/response.json\", \"w\") as f: \n",
    "    f.writelines(r.text)"
   ]
  },
  {
   "cell_type": "markdown",
   "metadata": {},
   "source": [
    "Return the response as json, and then pass it to `pd.json_normalize` - https://pandas.pydata.org/pandas-docs/stable/reference/api/pandas.json_normalize.html\n",
    "\n",
    "This will flatten the json structure so we can use it more readily in a Pandas DataFrame."
   ]
  },
  {
   "cell_type": "code",
   "execution_count": 5,
   "metadata": {},
   "outputs": [],
   "source": [
    "members_data = r.json()"
   ]
  },
  {
   "cell_type": "code",
   "execution_count": 6,
   "metadata": {},
   "outputs": [
    {
     "data": {
      "text/html": [
       "<div>\n",
       "<style scoped>\n",
       "    .dataframe tbody tr th:only-of-type {\n",
       "        vertical-align: middle;\n",
       "    }\n",
       "\n",
       "    .dataframe tbody tr th {\n",
       "        vertical-align: top;\n",
       "    }\n",
       "\n",
       "    .dataframe thead th {\n",
       "        text-align: right;\n",
       "    }\n",
       "</style>\n",
       "<table border=\"1\" class=\"dataframe\">\n",
       "  <thead>\n",
       "    <tr style=\"text-align: right;\">\n",
       "      <th></th>\n",
       "      <th>id</th>\n",
       "      <th>latest_member.id</th>\n",
       "      <th>latest_member.name.first</th>\n",
       "      <th>latest_member.name.last</th>\n",
       "      <th>latest_member.electorate</th>\n",
       "      <th>latest_member.house</th>\n",
       "      <th>latest_member.party</th>\n",
       "    </tr>\n",
       "  </thead>\n",
       "  <tbody>\n",
       "    <tr>\n",
       "      <th>0</th>\n",
       "      <td>10007</td>\n",
       "      <td>6</td>\n",
       "      <td>Anthony</td>\n",
       "      <td>Albanese</td>\n",
       "      <td>Grayndler</td>\n",
       "      <td>representatives</td>\n",
       "      <td>Australian Labor Party</td>\n",
       "    </tr>\n",
       "    <tr>\n",
       "      <th>1</th>\n",
       "      <td>10014</td>\n",
       "      <td>13</td>\n",
       "      <td>Kevin</td>\n",
       "      <td>Andrews</td>\n",
       "      <td>Menzies</td>\n",
       "      <td>representatives</td>\n",
       "      <td>Liberal Party</td>\n",
       "    </tr>\n",
       "    <tr>\n",
       "      <th>2</th>\n",
       "      <td>10043</td>\n",
       "      <td>40</td>\n",
       "      <td>Sharon</td>\n",
       "      <td>Bird</td>\n",
       "      <td>Cunningham</td>\n",
       "      <td>representatives</td>\n",
       "      <td>Australian Labor Party</td>\n",
       "    </tr>\n",
       "    <tr>\n",
       "      <th>3</th>\n",
       "      <td>10081</td>\n",
       "      <td>69</td>\n",
       "      <td>Tony</td>\n",
       "      <td>Burke</td>\n",
       "      <td>Watson</td>\n",
       "      <td>representatives</td>\n",
       "      <td>Australian Labor Party</td>\n",
       "    </tr>\n",
       "    <tr>\n",
       "      <th>4</th>\n",
       "      <td>10088</td>\n",
       "      <td>74</td>\n",
       "      <td>Anthony</td>\n",
       "      <td>Byrne</td>\n",
       "      <td>Holt</td>\n",
       "      <td>representatives</td>\n",
       "      <td>Australian Labor Party</td>\n",
       "    </tr>\n",
       "  </tbody>\n",
       "</table>\n",
       "</div>"
      ],
      "text/plain": [
       "      id  latest_member.id latest_member.name.first latest_member.name.last  \\\n",
       "0  10007                 6                  Anthony                Albanese   \n",
       "1  10014                13                    Kevin                 Andrews   \n",
       "2  10043                40                   Sharon                    Bird   \n",
       "3  10081                69                     Tony                   Burke   \n",
       "4  10088                74                  Anthony                   Byrne   \n",
       "\n",
       "  latest_member.electorate latest_member.house     latest_member.party  \n",
       "0                Grayndler     representatives  Australian Labor Party  \n",
       "1                  Menzies     representatives           Liberal Party  \n",
       "2               Cunningham     representatives  Australian Labor Party  \n",
       "3                   Watson     representatives  Australian Labor Party  \n",
       "4                     Holt     representatives  Australian Labor Party  "
      ]
     },
     "execution_count": 6,
     "metadata": {},
     "output_type": "execute_result"
    }
   ],
   "source": [
    "members_df = pd.json_normalize(members_data)\n",
    "members_df.head()"
   ]
  },
  {
   "cell_type": "markdown",
   "metadata": {},
   "source": [
    "Export the extracted data to a csv for further processing."
   ]
  },
  {
   "cell_type": "code",
   "execution_count": 7,
   "metadata": {},
   "outputs": [],
   "source": [
    "members_df.to_csv(\"01_extract_they_vote_for_you/output.csv\", index = False)"
   ]
  }
 ],
 "metadata": {
  "kernelspec": {
   "display_name": "Python 3.8.2 64-bit ('PythonData': conda)",
   "language": "python",
   "name": "python38264bitpythondatacondad75933a419364c33a0623b6a6469479d"
  },
  "language_info": {
   "codemirror_mode": {
    "name": "ipython",
    "version": 3
   },
   "file_extension": ".py",
   "mimetype": "text/x-python",
   "name": "python",
   "nbconvert_exporter": "python",
   "pygments_lexer": "ipython3",
   "version": "3.8.3"
  }
 },
 "nbformat": 4,
 "nbformat_minor": 4
}
